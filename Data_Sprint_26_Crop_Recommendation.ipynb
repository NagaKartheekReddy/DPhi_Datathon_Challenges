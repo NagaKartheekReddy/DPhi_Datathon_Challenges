{
  "nbformat": 4,
  "nbformat_minor": 0,
  "metadata": {
    "colab": {
      "name": "Data Sprint #26: Crop Recommendation.ipynb",
      "provenance": [],
      "authorship_tag": "ABX9TyPNedRq78wCPnO7sfOfAIGe",
      "include_colab_link": true
    },
    "kernelspec": {
      "name": "python3",
      "display_name": "Python 3"
    }
  },
  "cells": [
    {
      "cell_type": "markdown",
      "metadata": {
        "id": "view-in-github",
        "colab_type": "text"
      },
      "source": [
        "<a href=\"https://colab.research.google.com/github/NagaKartheekReddy/DPhi_Datathon_Challenges/blob/main/Data_Sprint_26_Crop_Recommendation.ipynb\" target=\"_parent\"><img src=\"https://colab.research.google.com/assets/colab-badge.svg\" alt=\"Open In Colab\"/></a>"
      ]
    },
    {
      "cell_type": "code",
      "metadata": {
        "id": "Grm1_9DS1W-E"
      },
      "source": [
        "import pandas as pd"
      ],
      "execution_count": null,
      "outputs": []
    },
    {
      "cell_type": "code",
      "metadata": {
        "id": "JixzzVzH9sZ-"
      },
      "source": [
        "train_data = pd.read_csv(\"https://raw.githubusercontent.com/dphi-official/Datasets/master/crop_recommendation/train_set_label.csv\")"
      ],
      "execution_count": null,
      "outputs": []
    },
    {
      "cell_type": "code",
      "metadata": {
        "colab": {
          "base_uri": "https://localhost:8080/",
          "height": 419
        },
        "id": "0xt79GvH9ub8",
        "outputId": "53284b93-916a-41a2-f154-9416b7f1373f"
      },
      "source": [
        "train_data"
      ],
      "execution_count": null,
      "outputs": [
        {
          "output_type": "execute_result",
          "data": {
            "text/html": [
              "<div>\n",
              "<style scoped>\n",
              "    .dataframe tbody tr th:only-of-type {\n",
              "        vertical-align: middle;\n",
              "    }\n",
              "\n",
              "    .dataframe tbody tr th {\n",
              "        vertical-align: top;\n",
              "    }\n",
              "\n",
              "    .dataframe thead th {\n",
              "        text-align: right;\n",
              "    }\n",
              "</style>\n",
              "<table border=\"1\" class=\"dataframe\">\n",
              "  <thead>\n",
              "    <tr style=\"text-align: right;\">\n",
              "      <th></th>\n",
              "      <th>N</th>\n",
              "      <th>P</th>\n",
              "      <th>K</th>\n",
              "      <th>temperature</th>\n",
              "      <th>humidity</th>\n",
              "      <th>ph</th>\n",
              "      <th>rainfall</th>\n",
              "      <th>crop</th>\n",
              "    </tr>\n",
              "  </thead>\n",
              "  <tbody>\n",
              "    <tr>\n",
              "      <th>0</th>\n",
              "      <td>17.000000</td>\n",
              "      <td>136.000000</td>\n",
              "      <td>196.00000</td>\n",
              "      <td>23.871923</td>\n",
              "      <td>90.499390</td>\n",
              "      <td>5.882156</td>\n",
              "      <td>103.054809</td>\n",
              "      <td>apple</td>\n",
              "    </tr>\n",
              "    <tr>\n",
              "      <th>1</th>\n",
              "      <td>49.000000</td>\n",
              "      <td>69.000000</td>\n",
              "      <td>82.00000</td>\n",
              "      <td>18.315615</td>\n",
              "      <td>15.361435</td>\n",
              "      <td>7.263119</td>\n",
              "      <td>81.787105</td>\n",
              "      <td>chickpea</td>\n",
              "    </tr>\n",
              "    <tr>\n",
              "      <th>2</th>\n",
              "      <td>74.000000</td>\n",
              "      <td>49.000000</td>\n",
              "      <td>38.00000</td>\n",
              "      <td>23.314104</td>\n",
              "      <td>71.450905</td>\n",
              "      <td>7.488014</td>\n",
              "      <td>164.497037</td>\n",
              "      <td>jute</td>\n",
              "    </tr>\n",
              "    <tr>\n",
              "      <th>3</th>\n",
              "      <td>104.000000</td>\n",
              "      <td>35.000000</td>\n",
              "      <td>28.00000</td>\n",
              "      <td>27.510061</td>\n",
              "      <td>50.666872</td>\n",
              "      <td>6.983732</td>\n",
              "      <td>143.995555</td>\n",
              "      <td>coffee</td>\n",
              "    </tr>\n",
              "    <tr>\n",
              "      <th>4</th>\n",
              "      <td>23.000000</td>\n",
              "      <td>72.000000</td>\n",
              "      <td>84.00000</td>\n",
              "      <td>19.020613</td>\n",
              "      <td>17.131591</td>\n",
              "      <td>6.920251</td>\n",
              "      <td>79.926981</td>\n",
              "      <td>chickpea</td>\n",
              "    </tr>\n",
              "    <tr>\n",
              "      <th>...</th>\n",
              "      <td>...</td>\n",
              "      <td>...</td>\n",
              "      <td>...</td>\n",
              "      <td>...</td>\n",
              "      <td>...</td>\n",
              "      <td>...</td>\n",
              "      <td>...</td>\n",
              "      <td>...</td>\n",
              "    </tr>\n",
              "    <tr>\n",
              "      <th>1645</th>\n",
              "      <td>40.000000</td>\n",
              "      <td>17.000000</td>\n",
              "      <td>15.00000</td>\n",
              "      <td>21.350934</td>\n",
              "      <td>90.949297</td>\n",
              "      <td>7.871063</td>\n",
              "      <td>107.086209</td>\n",
              "      <td>orange</td>\n",
              "    </tr>\n",
              "    <tr>\n",
              "      <th>1646</th>\n",
              "      <td>40.000000</td>\n",
              "      <td>18.000000</td>\n",
              "      <td>43.00000</td>\n",
              "      <td>19.386038</td>\n",
              "      <td>86.790585</td>\n",
              "      <td>5.767373</td>\n",
              "      <td>109.913098</td>\n",
              "      <td>pomegranate</td>\n",
              "    </tr>\n",
              "    <tr>\n",
              "      <th>1647</th>\n",
              "      <td>35.000000</td>\n",
              "      <td>135.000000</td>\n",
              "      <td>199.00000</td>\n",
              "      <td>21.774667</td>\n",
              "      <td>80.549426</td>\n",
              "      <td>6.400720</td>\n",
              "      <td>69.396304</td>\n",
              "      <td>grapes</td>\n",
              "    </tr>\n",
              "    <tr>\n",
              "      <th>1648</th>\n",
              "      <td>97.000000</td>\n",
              "      <td>35.000000</td>\n",
              "      <td>26.00000</td>\n",
              "      <td>24.914610</td>\n",
              "      <td>53.741447</td>\n",
              "      <td>6.334610</td>\n",
              "      <td>166.254931</td>\n",
              "      <td>coffee</td>\n",
              "    </tr>\n",
              "    <tr>\n",
              "      <th>1649</th>\n",
              "      <td>19.665506</td>\n",
              "      <td>53.221835</td>\n",
              "      <td>21.55633</td>\n",
              "      <td>28.018740</td>\n",
              "      <td>81.158238</td>\n",
              "      <td>6.816712</td>\n",
              "      <td>42.427374</td>\n",
              "      <td>mungbean</td>\n",
              "    </tr>\n",
              "  </tbody>\n",
              "</table>\n",
              "<p>1650 rows × 8 columns</p>\n",
              "</div>"
            ],
            "text/plain": [
              "               N           P          K  ...        ph    rainfall         crop\n",
              "0      17.000000  136.000000  196.00000  ...  5.882156  103.054809        apple\n",
              "1      49.000000   69.000000   82.00000  ...  7.263119   81.787105     chickpea\n",
              "2      74.000000   49.000000   38.00000  ...  7.488014  164.497037         jute\n",
              "3     104.000000   35.000000   28.00000  ...  6.983732  143.995555       coffee\n",
              "4      23.000000   72.000000   84.00000  ...  6.920251   79.926981     chickpea\n",
              "...          ...         ...        ...  ...       ...         ...          ...\n",
              "1645   40.000000   17.000000   15.00000  ...  7.871063  107.086209       orange\n",
              "1646   40.000000   18.000000   43.00000  ...  5.767373  109.913098  pomegranate\n",
              "1647   35.000000  135.000000  199.00000  ...  6.400720   69.396304       grapes\n",
              "1648   97.000000   35.000000   26.00000  ...  6.334610  166.254931       coffee\n",
              "1649   19.665506   53.221835   21.55633  ...  6.816712   42.427374     mungbean\n",
              "\n",
              "[1650 rows x 8 columns]"
            ]
          },
          "metadata": {
            "tags": []
          },
          "execution_count": 12
        }
      ]
    },
    {
      "cell_type": "code",
      "metadata": {
        "colab": {
          "base_uri": "https://localhost:8080/",
          "height": 384
        },
        "id": "7tf07IKaSNIc",
        "outputId": "92c03247-bf3e-4767-e86d-1dc406cd2c1e"
      },
      "source": [
        "from xgboost import XGBClassifier\n",
        "from matplotlib import pyplot\n",
        "\n",
        "X = train_data.drop(columns='crop')\n",
        "y = train_data['crop']\n",
        "# define the model\n",
        "model = XGBClassifier()\n",
        "# fit the model\n",
        "model.fit(X, y)\n",
        "# get importance\n",
        "importance = model.feature_importances_\n",
        "# summarize feature importance\n",
        "for i,v in enumerate(importance):\n",
        " print('Feature: %0d, Score: %.5f' % (i,v))\n",
        "# plot feature importance\n",
        "pyplot.bar([x for x in range(len(importance))], importance)\n",
        "pyplot.show()"
      ],
      "execution_count": null,
      "outputs": [
        {
          "output_type": "stream",
          "text": [
            "Feature: 0, Score: 0.17389\n",
            "Feature: 1, Score: 0.15207\n",
            "Feature: 2, Score: 0.16876\n",
            "Feature: 3, Score: 0.08134\n",
            "Feature: 4, Score: 0.16479\n",
            "Feature: 5, Score: 0.09316\n",
            "Feature: 6, Score: 0.16598\n"
          ],
          "name": "stdout"
        },
        {
          "output_type": "display_data",
          "data": {
            "image/png": "[encoded data removed]",
            "text/plain": [
              "<Figure size 432x288 with 1 Axes>"
            ]
          },
          "metadata": {
            "tags": [],
            "needs_background": "light"
          }
        }
      ]
    },
    {
      "cell_type": "code",
      "metadata": {
        "id": "tySpj-FrUB9G"
      },
      "source": [
        "from sklearn.neural_network import MLPClassifier\n",
        "from sklearn.model_selection import train_test_split\n",
        "\n",
        "X_train, X_test, y_train, y_test = train_test_split(X, y, test_size=0.2, random_state=1)\n",
        "\n",
        "clf = MLPClassifier(hidden_layer_sizes=40, activation='relu', solver='lbfgs',random_state=1, max_iter=350).fit(X_train, y_train)\n",
        "clf.score(X_test, y_test)"
      ],
      "execution_count": null,
      "outputs": []
    },
    {
      "cell_type": "code",
      "metadata": {
        "id": "aa0BH9tVjQG1"
      },
      "source": [
        "test_data = pd.read_csv('https://raw.githubusercontent.com/dphi-official/Datasets/master/crop_recommendation/test_set_label.csv')"
      ],
      "execution_count": null,
      "outputs": []
    },
    {
      "cell_type": "code",
      "metadata": {
        "id": "XjUYbQc6mOI5"
      },
      "source": [
        "predicted = clf.predict(test_data)"
      ],
      "execution_count": null,
      "outputs": []
    },
    {
      "cell_type": "code",
      "metadata": {
        "colab": {
          "base_uri": "https://localhost:8080/"
        },
        "id": "Aw7-1llbmfpU",
        "outputId": "41011e1a-874d-4706-fc8d-4891a7fb57d8"
      },
      "source": [
        "predicted"
      ],
      "execution_count": null,
      "outputs": [
        {
          "output_type": "execute_result",
          "data": {
            "text/plain": [
              "array(['mothbeans', 'cotton', 'mango', 'lentil', 'mungbean', 'coffee',\n",
              "       'lentil', 'cotton', 'mothbeans', 'lentil', 'jute', 'mothbeans',\n",
              "       'orange', 'banana', 'coconut', 'muskmelon', 'grapes', 'coffee',\n",
              "       'watermelon', 'mungbean', 'coconut', 'rice', 'mothbeans', 'maize',\n",
              "       'apple', 'orange', 'rice', 'watermelon', 'pomegranate',\n",
              "       'mothbeans', 'kidneybeans', 'mungbean', 'banana', 'papaya',\n",
              "       'blackgram', 'chickpea', 'kidneybeans', 'coconut', 'lentil',\n",
              "       'papaya', 'grapes', 'grapes', 'rice', 'chickpea', 'grapes',\n",
              "       'pigeonpeas', 'watermelon', 'pigeonpeas', 'watermelon', 'mango',\n",
              "       'maize', 'mango', 'grapes', 'pigeonpeas', 'rice', 'kidneybeans',\n",
              "       'apple', 'coconut', 'watermelon', 'apple', 'mungbean', 'coffee',\n",
              "       'watermelon', 'mungbean', 'apple', 'kidneybeans', 'orange',\n",
              "       'grapes', 'watermelon', 'coconut', 'cotton', 'pomegranate',\n",
              "       'cotton', 'apple', 'maize', 'jute', 'mothbeans', 'cotton',\n",
              "       'cotton', 'pigeonpeas', 'pigeonpeas', 'mothbeans', 'banana',\n",
              "       'apple', 'kidneybeans', 'cotton', 'banana', 'chickpea', 'apple',\n",
              "       'maize', 'grapes', 'orange', 'pomegranate', 'blackgram',\n",
              "       'watermelon', 'mothbeans', 'grapes', 'apple', 'chickpea', 'orange',\n",
              "       'orange', 'muskmelon', 'coconut', 'jute', 'orange', 'cotton',\n",
              "       'pigeonpeas', 'cotton', 'cotton', 'mango', 'pomegranate',\n",
              "       'chickpea', 'maize', 'mothbeans', 'coffee', 'kidneybeans',\n",
              "       'banana', 'coconut', 'lentil', 'jute', 'blackgram', 'coffee',\n",
              "       'kidneybeans', 'mungbean', 'cotton', 'papaya', 'watermelon',\n",
              "       'coconut', 'papaya', 'blackgram', 'rice', 'mothbeans', 'muskmelon',\n",
              "       'mothbeans', 'rice', 'mungbean', 'pomegranate', 'pigeonpeas',\n",
              "       'coffee', 'coffee', 'mango', 'jute', 'jute', 'cotton', 'chickpea',\n",
              "       'chickpea', 'papaya', 'mothbeans', 'orange', 'apple', 'coffee',\n",
              "       'mungbean', 'maize', 'chickpea', 'blackgram', 'lentil', 'orange',\n",
              "       'kidneybeans', 'pomegranate', 'papaya', 'blackgram', 'mango',\n",
              "       'pomegranate', 'jute', 'pigeonpeas', 'lentil', 'chickpea',\n",
              "       'muskmelon', 'chickpea', 'lentil', 'mango', 'coconut', 'banana',\n",
              "       'coffee', 'rice', 'mango', 'watermelon', 'watermelon', 'jute',\n",
              "       'coconut', 'pigeonpeas', 'papaya', 'rice', 'orange', 'cotton',\n",
              "       'blackgram', 'pigeonpeas', 'mango', 'mango', 'blackgram', 'jute',\n",
              "       'orange', 'papaya', 'maize', 'cotton', 'cotton', 'papaya',\n",
              "       'muskmelon', 'apple', 'coffee', 'coconut', 'watermelon',\n",
              "       'muskmelon', 'muskmelon', 'coconut', 'chickpea', 'maize',\n",
              "       'mungbean', 'cotton', 'muskmelon', 'mothbeans', 'rice', 'lentil',\n",
              "       'rice', 'kidneybeans', 'grapes', 'pigeonpeas', 'lentil', 'rice',\n",
              "       'grapes', 'maize', 'maize', 'muskmelon', 'mango', 'mungbean',\n",
              "       'banana', 'papaya', 'rice', 'orange', 'chickpea', 'grapes',\n",
              "       'banana', 'blackgram', 'mungbean', 'orange', 'muskmelon',\n",
              "       'mothbeans', 'mungbean', 'mothbeans', 'grapes', 'jute',\n",
              "       'muskmelon', 'muskmelon', 'maize', 'rice', 'pomegranate', 'banana',\n",
              "       'banana', 'pomegranate', 'coconut', 'pomegranate', 'papaya',\n",
              "       'blackgram', 'watermelon', 'kidneybeans', 'mungbean', 'mothbeans',\n",
              "       'coconut', 'orange', 'watermelon', 'grapes', 'apple', 'maize',\n",
              "       'orange', 'kidneybeans', 'blackgram', 'orange', 'pigeonpeas',\n",
              "       'papaya', 'orange', 'kidneybeans', 'lentil', 'grapes', 'jute',\n",
              "       'muskmelon', 'muskmelon', 'banana', 'blackgram', 'orange',\n",
              "       'muskmelon', 'pigeonpeas', 'grapes', 'chickpea', 'mango', 'orange',\n",
              "       'coffee', 'apple', 'cotton', 'mothbeans', 'blackgram', 'lentil',\n",
              "       'orange', 'papaya', 'cotton', 'papaya', 'lentil', 'coffee',\n",
              "       'apple', 'watermelon', 'banana', 'maize', 'pomegranate', 'grapes',\n",
              "       'jute', 'coffee', 'pomegranate', 'kidneybeans', 'mothbeans',\n",
              "       'cotton', 'chickpea', 'papaya', 'pomegranate', 'pomegranate',\n",
              "       'watermelon', 'grapes', 'cotton', 'mungbean', 'watermelon', 'rice',\n",
              "       'cotton', 'mungbean', 'kidneybeans', 'watermelon', 'banana',\n",
              "       'chickpea', 'coffee', 'pigeonpeas', 'mothbeans', 'mango',\n",
              "       'mungbean', 'coffee', 'rice', 'muskmelon', 'pigeonpeas', 'jute',\n",
              "       'watermelon', 'grapes', 'blackgram', 'mango', 'watermelon',\n",
              "       'coffee', 'rice', 'chickpea', 'coconut', 'coffee', 'mungbean',\n",
              "       'lentil', 'rice', 'pomegranate', 'pigeonpeas', 'rice', 'cotton',\n",
              "       'pigeonpeas', 'banana', 'chickpea', 'banana', 'blackgram',\n",
              "       'kidneybeans', 'coconut', 'grapes', 'jute', 'papaya', 'mungbean',\n",
              "       'cotton', 'coconut', 'chickpea', 'pomegranate', 'muskmelon',\n",
              "       'pomegranate', 'grapes', 'chickpea', 'kidneybeans', 'chickpea',\n",
              "       'blackgram', 'kidneybeans', 'coffee', 'mango', 'grapes', 'papaya',\n",
              "       'coconut', 'coconut', 'apple', 'kidneybeans', 'maize', 'coconut',\n",
              "       'banana', 'cotton', 'muskmelon', 'jute', 'rice', 'cotton',\n",
              "       'pomegranate', 'apple', 'kidneybeans', 'apple', 'mango', 'coconut',\n",
              "       'maize', 'coffee', 'mango', 'rice', 'mungbean', 'maize',\n",
              "       'pomegranate', 'lentil', 'coffee', 'kidneybeans', 'grapes',\n",
              "       'pomegranate', 'kidneybeans', 'pomegranate', 'rice', 'pigeonpeas',\n",
              "       'chickpea', 'pigeonpeas', 'lentil', 'blackgram', 'mango', 'papaya',\n",
              "       'mothbeans', 'apple', 'cotton', 'lentil', 'grapes', 'lentil',\n",
              "       'papaya', 'papaya', 'pigeonpeas', 'muskmelon', 'papaya',\n",
              "       'pomegranate', 'banana', 'lentil', 'mungbean', 'maize', 'mungbean',\n",
              "       'grapes', 'pigeonpeas', 'kidneybeans', 'apple', 'cotton', 'apple',\n",
              "       'mothbeans', 'coffee', 'blackgram', 'coffee', 'rice', 'chickpea',\n",
              "       'muskmelon', 'mungbean', 'jute', 'chickpea', 'rice', 'kidneybeans',\n",
              "       'rice', 'mango', 'muskmelon', 'orange', 'mango', 'banana', 'jute',\n",
              "       'muskmelon', 'rice', 'watermelon', 'papaya', 'grapes', 'mungbean',\n",
              "       'coffee', 'pomegranate', 'cotton', 'mango', 'lentil', 'papaya',\n",
              "       'watermelon', 'mothbeans', 'mango', 'jute', 'rice', 'mothbeans',\n",
              "       'lentil', 'apple', 'pigeonpeas', 'banana', 'blackgram', 'lentil',\n",
              "       'lentil', 'banana', 'mango', 'mango', 'apple', 'coffee',\n",
              "       'watermelon', 'coconut', 'pigeonpeas', 'lentil', 'lentil',\n",
              "       'banana', 'blackgram', 'orange', 'banana', 'cotton', 'coconut',\n",
              "       'watermelon', 'apple', 'blackgram', 'mungbean', 'jute', 'maize',\n",
              "       'jute', 'pomegranate', 'orange', 'pomegranate', 'orange',\n",
              "       'kidneybeans', 'blackgram', 'pigeonpeas', 'watermelon', 'banana',\n",
              "       'muskmelon', 'jute', 'mango', 'papaya', 'lentil', 'maize',\n",
              "       'banana', 'kidneybeans', 'lentil', 'blackgram', 'orange', 'jute',\n",
              "       'jute', 'papaya', 'mothbeans', 'apple', 'jute', 'lentil', 'apple',\n",
              "       'maize', 'maize', 'mothbeans', 'muskmelon', 'banana', 'maize',\n",
              "       'chickpea', 'muskmelon', 'chickpea', 'coconut', 'coconut', 'apple',\n",
              "       'mungbean'], dtype='<U11')"
            ]
          },
          "metadata": {
            "tags": []
          },
          "execution_count": 57
        }
      ]
    },
    {
      "cell_type": "code",
      "metadata": {
        "colab": {
          "base_uri": "https://localhost:8080/",
          "height": 17
        },
        "id": "lRd9OY-jmg7v",
        "outputId": "01f8cbaf-db2e-49ed-ffab-a8dc2516f7aa"
      },
      "source": [
        "# To create Dataframe of predicted value with particular respective index\n",
        "res = pd.DataFrame(predicted) # target are nothing but the final predictions of your model on input features of your new unseen test data\n",
        "res.columns = [\"prediction\"]\n",
        "\n",
        "# To download the csv file locally\n",
        "from google.colab import files\n",
        "res.to_csv('submission.csv', index = False)\n",
        "files.download('submission.csv')"
      ],
      "execution_count": null,
      "outputs": [
        {
          "output_type": "display_data",
          "data": {
            "application/javascript": [
              "\n",
              "    async function download(id, filename, size) {\n",
              "      if (!google.colab.kernel.accessAllowed) {\n",
              "        return;\n",
              "      }\n",
              "      const div = document.createElement('div');\n",
              "      const label = document.createElement('label');\n",
              "      label.textContent = `Downloading \"${filename}\": `;\n",
              "      div.appendChild(label);\n",
              "      const progress = document.createElement('progress');\n",
              "      progress.max = size;\n",
              "      div.appendChild(progress);\n",
              "      document.body.appendChild(div);\n",
              "\n",
              "      const buffers = [];\n",
              "      let downloaded = 0;\n",
              "\n",
              "      const channel = await google.colab.kernel.comms.open(id);\n",
              "      // Send a message to notify the kernel that we're ready.\n",
              "      channel.send({})\n",
              "\n",
              "      for await (const message of channel.messages) {\n",
              "        // Send a message to notify the kernel that we're ready.\n",
              "        channel.send({})\n",
              "        if (message.buffers) {\n",
              "          for (const buffer of message.buffers) {\n",
              "            buffers.push(buffer);\n",
              "            downloaded += buffer.byteLength;\n",
              "            progress.value = downloaded;\n",
              "          }\n",
              "        }\n",
              "      }\n",
              "      const blob = new Blob(buffers, {type: 'application/binary'});\n",
              "      const a = document.createElement('a');\n",
              "      a.href = window.URL.createObjectURL(blob);\n",
              "      a.download = filename;\n",
              "      div.appendChild(a);\n",
              "      a.click();\n",
              "      div.remove();\n",
              "    }\n",
              "  "
            ],
            "text/plain": [
              "<IPython.core.display.Javascript object>"
            ]
          },
          "metadata": {
            "tags": []
          }
        },
        {
          "output_type": "display_data",
          "data": {
            "application/javascript": [
              "download(\"download_09e11f96-668e-4b8c-a48b-b3b3d9f5b82f\", \"submission.csv\", 4479)"
            ],
            "text/plain": [
              "<IPython.core.display.Javascript object>"
            ]
          },
          "metadata": {
            "tags": []
          }
        }
      ]
    },
    {
      "cell_type": "code",
      "metadata": {
        "id": "bhta7OIHm5_f"
      },
      "source": [
        ""
      ],
      "execution_count": null,
      "outputs": []
    }
  ]
}